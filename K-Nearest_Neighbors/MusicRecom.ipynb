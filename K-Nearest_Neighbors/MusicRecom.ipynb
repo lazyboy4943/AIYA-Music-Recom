{
 "cells": [
  {
   "cell_type": "code",
   "execution_count": 217,
   "metadata": {},
   "outputs": [],
   "source": [
    "import pandas as pd\n",
    "import matplotlib.pyplot as plt"
   ]
  },
  {
   "cell_type": "code",
   "execution_count": 218,
   "metadata": {},
   "outputs": [],
   "source": [
    "df = pd.read_csv('Songs_Emotions_Dataset_1.csv')"
   ]
  },
  {
   "cell_type": "code",
   "execution_count": 219,
   "metadata": {},
   "outputs": [
    {
     "data": {
      "text/html": [
       "<div>\n",
       "<style scoped>\n",
       "    .dataframe tbody tr th:only-of-type {\n",
       "        vertical-align: middle;\n",
       "    }\n",
       "\n",
       "    .dataframe tbody tr th {\n",
       "        vertical-align: top;\n",
       "    }\n",
       "\n",
       "    .dataframe thead th {\n",
       "        text-align: right;\n",
       "    }\n",
       "</style>\n",
       "<table border=\"1\" class=\"dataframe\">\n",
       "  <thead>\n",
       "    <tr style=\"text-align: right;\">\n",
       "      <th></th>\n",
       "      <th>Names</th>\n",
       "      <th>Links</th>\n",
       "      <th>Emotion</th>\n",
       "      <th>Genre</th>\n",
       "      <th>BPM</th>\n",
       "    </tr>\n",
       "  </thead>\n",
       "  <tbody>\n",
       "    <tr>\n",
       "      <th>0</th>\n",
       "      <td>Uptown Funk</td>\n",
       "      <td>https://www.youtube.com/watch?v=OPf0YbXqDm0</td>\n",
       "      <td>Happy</td>\n",
       "      <td>4.0</td>\n",
       "      <td>115</td>\n",
       "    </tr>\n",
       "    <tr>\n",
       "      <th>1</th>\n",
       "      <td>Party Rock Anthem</td>\n",
       "      <td>https://www.youtube.com/watch?v=KQ6zr6kCPj8</td>\n",
       "      <td>Happy</td>\n",
       "      <td>5.0</td>\n",
       "      <td>130</td>\n",
       "    </tr>\n",
       "    <tr>\n",
       "      <th>2</th>\n",
       "      <td>Shape of You</td>\n",
       "      <td>https://www.youtube.com/watch?v=JGwWNGJdvx8</td>\n",
       "      <td>Happy</td>\n",
       "      <td>4.5</td>\n",
       "      <td>96</td>\n",
       "    </tr>\n",
       "    <tr>\n",
       "      <th>3</th>\n",
       "      <td>Closer</td>\n",
       "      <td>https://www.youtube.com/watch?v=0zGcUoRlhmw</td>\n",
       "      <td>Love</td>\n",
       "      <td>4.1</td>\n",
       "      <td>95</td>\n",
       "    </tr>\n",
       "    <tr>\n",
       "      <th>4</th>\n",
       "      <td>Girl Like You</td>\n",
       "      <td>https://www.youtube.com/watch?v=aJOTlE1K90k</td>\n",
       "      <td>Mood</td>\n",
       "      <td>3.4</td>\n",
       "      <td>125</td>\n",
       "    </tr>\n",
       "  </tbody>\n",
       "</table>\n",
       "</div>"
      ],
      "text/plain": [
       "               Names                                        Links Emotion  \\\n",
       "0        Uptown Funk  https://www.youtube.com/watch?v=OPf0YbXqDm0   Happy   \n",
       "1  Party Rock Anthem  https://www.youtube.com/watch?v=KQ6zr6kCPj8   Happy   \n",
       "2       Shape of You  https://www.youtube.com/watch?v=JGwWNGJdvx8   Happy   \n",
       "3             Closer  https://www.youtube.com/watch?v=0zGcUoRlhmw    Love   \n",
       "4      Girl Like You  https://www.youtube.com/watch?v=aJOTlE1K90k    Mood   \n",
       "\n",
       "   Genre  BPM  \n",
       "0    4.0  115  \n",
       "1    5.0  130  \n",
       "2    4.5   96  \n",
       "3    4.1   95  \n",
       "4    3.4  125  "
      ]
     },
     "execution_count": 219,
     "metadata": {},
     "output_type": "execute_result"
    }
   ],
   "source": [
    "df.head()"
   ]
  },
  {
   "cell_type": "code",
   "execution_count": 220,
   "metadata": {},
   "outputs": [],
   "source": [
    "# Make a graph mapping genre to bpm with emotion labels\n",
    "# input a genre and bpm and use knn to find the emotion (with a probability)"
   ]
  },
  {
   "cell_type": "code",
   "execution_count": 221,
   "metadata": {},
   "outputs": [
    {
     "name": "stdout",
     "output_type": "stream",
     "text": [
      "[['Happy', 4.0, 115], ['Happy', 5.0, 130], ['Happy', 4.5, 96], ['Love', 4.1, 95], ['Mood', 3.4, 125]]\n"
     ]
    }
   ],
   "source": [
    "# Turn the df to a list\n",
    "dflist = df.values.tolist()\n",
    "# remove the links \n",
    "for song in dflist:\n",
    "    song.pop(0)\n",
    "    song.pop(0)\n",
    "\n",
    "# dflist now maps emotion to genre (intensity) and bpm\n",
    "print(dflist[:5])"
   ]
  },
  {
   "cell_type": "code",
   "execution_count": 222,
   "metadata": {},
   "outputs": [
    {
     "name": "stdout",
     "output_type": "stream",
     "text": [
      "[['Happy', 'Happy', 'Happy', 'Love', 'Mood', 'Mood', 'Happy', 'Sad', 'Happy', 'Sad', 'Mood', 'Happy', 'Happy', 'Happy', 'Love', 'Angry', 'Happy', 'Mood', 'Mood', 'Happy', 'Happy', 'Love', 'Mood', 'Happy', 'Sad', 'Mood', 'Happy', 'Angry', 'Sad', 'Happy', 'Happy', 'Love', 'Sad', 'Happy', 'Mood', 'Angry', 'Happy', 'Sad', 'Happy', 'Happy', 'Sad', 'Mood', 'Happy', 'Happy', 'Happy', 'Angry', 'Love', 'Happy', 'Happy', 'Happy', 'Sad', 'Sad', 'Happy', 'Sad', 'Happy', 'Sad', 'Mood', 'Happy', 'Mood', 'Sad', 'Mood', 'Happy', 'Sad', 'Sad', 'Happy', 'Happy', 'Sad', 'Sad', 'Mood', 'Sad', 'Happy', 'Sad', 'Happy', 'Happy', 'Mood', 'Happy', 'Sad', 'Sad', 'Mood', 'Angry', 'Sad', 'Happy', 'Happy', 'Mood', 'Angry', 'Mood', 'Sad', 'Happy', 'Happy', 'Happy', 'Mood', 'Mood', 'Angry', 'Angry', 'Angry', 'Angry', 'Happy', 'Happy', 'Mood', 'Sad'], [40, 50, 45, 41, 34, 50, 20, 36, 40, 10, 40, 70, 40, 70, 23, 60, 45, 32, 60, 70, 46, 37, 70, 40, 25, 35, 45, 50, 22, 35, 55, 18, 43, 42, 28, 64, 46, 15, 52, 46, 10, 25, 38, 59, 61, 65, 21, 34, 37, 37, 30, 10, 36, 41, 32, 31, 50, 53, 30, 21, 43, 52, 24, 33, 33, 31, 46, 23, 47, 16, 56, 41, 36, 45, 35, 40, 41, 43, 47, 70, 52, 47, 39, 52, 62, 30, 52, 34, 61, 40, 40, 30, 64, 70, 59, 49, 58, 32, 41, 34], [115, 130, 96, 95, 125, 128, 136, 129, 178, 105, 90, 113, 120, 120, 95, 155, 134, 85, 77, 128, 160, 109, 160, 120, 80, 132, 95, 93, 92, 134, 105, 120, 126, 160, 104, 136, 130, 135, 122, 91, 99, 100, 124, 129, 144, 87, 79, 100, 125, 114, 84, 158, 105, 110, 97, 75, 124, 160, 105, 110, 135, 95, 168, 121, 96, 90, 90, 96, 140, 84, 146, 140, 90, 144, 107, 120, 110, 130, 133, 126, 90, 113, 100, 119, 170, 125, 156, 138, 82, 130, 129, 135, 90, 94, 120, 105, 122, 91, 120, 80]]\n"
     ]
    }
   ],
   "source": [
    "# plotdatalist[[emotion], [genre], [bpm]]\n",
    "plotdatalist = [[], [], []]\n",
    "\n",
    "for song in dflist:\n",
    "    plotdatalist[0].append(song[0])\n",
    "    plotdatalist[1].append(song[1])\n",
    "    plotdatalist[2].append(song[2])\n",
    "\n",
    "# multiply all genres x10 so its ints\n",
    "newgenrelist = []\n",
    "for genre in plotdatalist[1]:\n",
    "    newgenrelist.append(int(genre*10))\n",
    "plotdatalist[1] = newgenrelist\n",
    "\n",
    "print(plotdatalist)\n"
   ]
  },
  {
   "cell_type": "code",
   "execution_count": 223,
   "metadata": {},
   "outputs": [],
   "source": [
    "# genre on the x axis\n",
    "# bpm on the y axis\n",
    "# colours for emotions : (happy, yellow), (angry, red), (sad, blue), (mood, black)"
   ]
  },
  {
   "cell_type": "code",
   "execution_count": 224,
   "metadata": {},
   "outputs": [
    {
     "data": {
      "text/plain": [
       "[<matplotlib.lines.Line2D at 0x2b3d43324a0>]"
      ]
     },
     "execution_count": 224,
     "metadata": {},
     "output_type": "execute_result"
    },
    {
     "data": {
      "image/png": "[encoded data removed]",
      "text/plain": [
       "<Figure size 432x288 with 1 Axes>"
      ]
     },
     "metadata": {
      "needs_background": "light"
     },
     "output_type": "display_data"
    }
   ],
   "source": [
    "genrelist = plotdatalist[1]\n",
    "bpmlist = plotdatalist[2]\n",
    "\n",
    "plt.plot(genrelist, bpmlist, 'o')"
   ]
  },
  {
   "cell_type": "code",
   "execution_count": 225,
   "metadata": {},
   "outputs": [
    {
     "name": "stdout",
     "output_type": "stream",
     "text": [
      "{(115, 40): 'Happy', (130, 50): 'Happy', (96, 45): 'Happy', (95, 41): 'Love', (125, 34): 'Mood', (128, 50): 'Mood', (136, 20): 'Happy', (129, 36): 'Sad', (178, 40): 'Happy', (105, 10): 'Sad', (90, 40): 'Mood', (113, 70): 'Happy', (120, 40): 'Happy', (120, 70): 'Happy', (95, 23): 'Love', (155, 60): 'Angry', (134, 45): 'Happy', (85, 32): 'Mood', (77, 60): 'Mood', (128, 70): 'Happy', (160, 46): 'Happy', (109, 37): 'Love', (160, 70): 'Mood', (80, 25): 'Sad', (132, 35): 'Mood', (95, 45): 'Happy', (93, 50): 'Angry', (92, 22): 'Sad', (134, 35): 'Happy', (105, 55): 'Happy', (120, 18): 'Love', (126, 43): 'Sad', (160, 42): 'Happy', (104, 28): 'Mood', (136, 64): 'Angry', (130, 46): 'Happy', (135, 15): 'Sad', (122, 52): 'Happy', (91, 46): 'Happy', (99, 10): 'Sad', (100, 25): 'Mood', (124, 38): 'Happy', (129, 59): 'Happy', (144, 61): 'Happy', (87, 65): 'Angry', (79, 21): 'Love', (100, 34): 'Happy', (125, 37): 'Happy', (114, 37): 'Happy', (84, 30): 'Sad', (158, 10): 'Sad', (105, 36): 'Happy', (110, 41): 'Sad', (97, 32): 'Happy', (75, 31): 'Sad', (124, 50): 'Mood', (160, 53): 'Happy', (105, 30): 'Mood', (110, 21): 'Sad', (135, 43): 'Mood', (95, 52): 'Happy', (168, 24): 'Sad', (121, 33): 'Sad', (96, 33): 'Happy', (90, 31): 'Happy', (90, 46): 'Sad', (96, 23): 'Sad', (140, 47): 'Mood', (84, 16): 'Sad', (146, 56): 'Happy', (140, 41): 'Sad', (90, 36): 'Happy', (144, 45): 'Happy', (107, 35): 'Mood', (130, 43): 'Sad', (133, 47): 'Mood', (126, 70): 'Angry', (90, 52): 'Sad', (113, 47): 'Happy', (100, 39): 'Happy', (119, 52): 'Mood', (170, 62): 'Angry', (125, 30): 'Mood', (156, 52): 'Sad', (138, 34): 'Happy', (82, 61): 'Happy', (130, 40): 'Happy', (129, 40): 'Mood', (135, 30): 'Mood', (90, 64): 'Angry', (94, 70): 'Angry', (120, 59): 'Angry', (105, 49): 'Angry', (122, 58): 'Happy', (91, 32): 'Happy', (120, 41): 'Mood', (80, 34): 'Sad'}\n"
     ]
    }
   ],
   "source": [
    "songsdict = {}\n",
    "for i in range(len(plotdatalist[0])):\n",
    "    # bpm, genre\n",
    "    songsdict[(plotdatalist[2][i], plotdatalist[1][i])] = plotdatalist[0][i]\n",
    "\n",
    "print(songsdict)\n",
    "\n"
   ]
  },
  {
   "cell_type": "code",
   "execution_count": 226,
   "metadata": {},
   "outputs": [],
   "source": [
    "# look at points 0.7 genre to left and right\n",
    "# look at 20 bpm up and down"
   ]
  },
  {
   "cell_type": "code",
   "execution_count": 227,
   "metadata": {},
   "outputs": [
    {
     "name": "stdout",
     "output_type": "stream",
     "text": [
      "Genres: Classical, Country, Pop, HipHop, Electronic, Rap, Rock (in inreasing intensities)\n"
     ]
    }
   ],
   "source": [
    "targetbpm = int(input(\"Enter the BPM of the song: \"))\n",
    "print('Genres: Classical, Country, Pop, HipHop, Electronic, Rap, Rock (in inreasing intensities)')\n",
    "genres = {'Classical', 'Country', 'Pop', 'HipHop', 'Electronic', 'Rap', 'Rock'}\n",
    "\n",
    "targetgenrestring = ''\n",
    "while targetgenrestring not in genres:\n",
    "    targetgenrestring = str(input(\"Enter the Genre of the song: \"))"
   ]
  },
  {
   "cell_type": "code",
   "execution_count": 228,
   "metadata": {},
   "outputs": [
    {
     "name": "stdout",
     "output_type": "stream",
     "text": [
      "bpm:  95\n",
      "genre:  30\n"
     ]
    }
   ],
   "source": [
    "genresdict = {\n",
    "    'Classical': 1, \n",
    "    'Country': 2, \n",
    "    'Pop': 3, \n",
    "    'HipHop': 4, \n",
    "    'Electronic': 5, \n",
    "    'Rap': 6, \n",
    "    'Rock': 7\n",
    "}\n",
    "targetgenreint = genresdict[targetgenrestring]\n",
    "targetgenreint = targetgenreint*10\n",
    "\n",
    "print('bpm: ', targetbpm)\n",
    "print('genre: ', targetgenreint)"
   ]
  },
  {
   "cell_type": "code",
   "execution_count": 229,
   "metadata": {},
   "outputs": [
    {
     "name": "stdout",
     "output_type": "stream",
     "text": [
      "['Sad', 'Sad', 'Sad', 'Sad', 'Mood', 'Happy', 'Happy', 'Happy', 'Love', 'Sad', 'Happy', 'Happy', 'Mood', 'Happy', 'Mood', 'Mood', 'Happy', 'Mood']\n"
     ]
    }
   ],
   "source": [
    "closeemotionslist = []\n",
    "for bpm in range(targetbpm-20, targetbpm+20):\n",
    "    for genre in range(targetgenreint-7, targetgenreint+7):\n",
    "        if (bpm, genre) in songsdict:\n",
    "            closeemotionslist.append(songsdict[(bpm, genre)])\n",
    "\n",
    "print(closeemotionslist)"
   ]
  },
  {
   "cell_type": "code",
   "execution_count": 230,
   "metadata": {},
   "outputs": [
    {
     "name": "stdout",
     "output_type": "stream",
     "text": [
      "Happy:  0.3888888888888889\n",
      "Sad 0.2777777777777778\n",
      "Mood 0.2777777777777778\n",
      "Angry 0.0\n",
      "Love 0.05555555555555555\n"
     ]
    }
   ],
   "source": [
    "happycount = closeemotionslist.count('Happy')/len(closeemotionslist)\n",
    "sadcount = closeemotionslist.count('Sad')/len(closeemotionslist)\n",
    "moodcount = closeemotionslist.count('Mood')/len(closeemotionslist)\n",
    "angrycount = closeemotionslist.count('Angry')/len(closeemotionslist)\n",
    "lovecount = closeemotionslist.count('Love')/len(closeemotionslist)\n",
    "\n",
    "print('Happy: ', happycount)\n",
    "print('Sad', sadcount)\n",
    "print('Mood', moodcount)\n",
    "print('Angry', angrycount)\n",
    "print('Love', lovecount)"
   ]
  }
 ],
 "metadata": {
  "interpreter": {
   "hash": "6f1ba3bd4009959daa3aee675a0d2081b4526d7159c07c600bca8dd4fe2b6796"
  },
  "kernelspec": {
   "display_name": "Python 3.10.2 ('env': venv)",
   "language": "python",
   "name": "python3"
  },
  "language_info": {
   "codemirror_mode": {
    "name": "ipython",
    "version": 3
   },
   "file_extension": ".py",
   "mimetype": "text/x-python",
   "name": "python",
   "nbconvert_exporter": "python",
   "pygments_lexer": "ipython3",
   "version": "3.10.2"
  },
  "orig_nbformat": 4
 },
 "nbformat": 4,
 "nbformat_minor": 2
}
