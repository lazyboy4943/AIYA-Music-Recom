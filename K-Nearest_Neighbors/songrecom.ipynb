{
 "cells": [
  {
   "cell_type": "code",
   "execution_count": 5,
   "metadata": {},
   "outputs": [],
   "source": [
    "import pandas as pd"
   ]
  },
  {
   "cell_type": "code",
   "execution_count": 6,
   "metadata": {},
   "outputs": [],
   "source": [
    "df = pd.read_csv('Songs_Emotions_Dataset_1.csv')"
   ]
  },
  {
   "cell_type": "code",
   "execution_count": 7,
   "metadata": {},
   "outputs": [
    {
     "name": "stdout",
     "output_type": "stream",
     "text": [
      "[['Uptown Funk', 'Happy'], ['Party Rock Anthem', 'Happy'], ['Shape of You', 'Happy'], ['Closer', 'Love'], ['Girl Like You', 'Mood'], ['We Found Love', 'Mood'], ['Old Town Road', 'Happy'], ['Somebody That I Used To Know', 'Sad'], ['Despacito', 'Happy'], ['Rolling In The Deep', 'Sad'], ['Sunflower', 'Mood'], ['Never Gonna Give You Up', 'Happy'], ['Call Me Maybe', 'Happy'], ['Blurred Lines', 'Happy'], ['Perfect', 'Love'], ['Sicko Mode', 'Angry'], ['All About That Bass', 'Happy'], ['Royals', 'Mood'], [\"God's Plan\", 'Mood'], ['Move Like Jagger', 'Happy'], ['Happy', 'Happy'], ['Just The Way You Are', 'Love'], ['7star', 'Mood'], ['Tik Tok', 'Happy'], ['See You Again', 'Sad'], ['Dark Horse', 'Mood'], ['Thrift Shop', 'Happy'], ['One More Night', 'Angry'], ['We Are Young', 'Sad'], [\"That's What I Like\", 'Happy'], ['OMFG Hello', 'Happy'], ['All Of Me', 'Love'], ['Happier', 'Sad'], ['Shake It Off', 'Happy'], ['One Dance', 'Mood'], ['Radioactive', 'Angry'], ['Sexy And I Know It', 'Happy'], ['Someone Like You', 'Sad'], ['Counting Stars', 'Happy'], ['Bailando', 'Happy'], ['My Heart Will Go On', 'Sad'], ['Love Yourself', 'Mood'], ['Firework', 'Happy'], ['Give Me Everything', 'Happy'], ['Locked Out Of Heaven', 'Happy'], ['Love The Way You Lie', 'Angry'], ['Thinking Out Loud', 'Love'], ['Sorry', 'Happy'], ['California Gurls', 'Happy'], ['Dynamite', 'Happy'], ['Lucid Dreams', 'Sad'], ['Hello', 'Sad'], ['Work From Home', 'Happy'], ['Grenade', 'Sad'], ['Hey, Soul Sister', 'Happy'], ['Let Her Go', 'Sad'], ['Wake Me Up!', 'Mood'], [\"Don't Let Me Down\", 'Happy'], ['Havana', 'Mood'], ['Someone You Loved', 'Sad'], ['Bad Guy', 'Mood'], ['Fancy', 'Happy'], ['Show Me The Meaning Of Being Lonely', 'Sad'], ['Story Of My Life', 'Sad'], ['Blank Space', 'Happy'], ['Cheap Thrills', 'Happy'], ['Diamond Heart', 'Sad'], ['Shallow', 'Sad'], ['7 Rings', 'Mood'], ['Stay With Me', 'Sad'], [\"Can't Hold Us\", 'Happy'], ['Paradise', 'Sad'], ['Roar', 'Happy'], ['Rude', 'Happy'], ['Thank U, Next', 'Mood'], ['Sugar', 'Happy'], ['Payphone', 'Sad'], ['LaLaLa', 'Sad'], ['Sweet But Psycho', 'Mood'], ['So What', 'Angry'], ['Demons', 'Sad'], [\"Can't Stop The Feeling\", 'Happy'], ['Cheerleader', 'Happy'], ['Bad Romance', 'Mood'], ['Sins Not Tragedies', 'Angry'], ['What Do You Mean', 'Mood'], ['This is Gospel', 'Sad'], ['Sucker', 'Happy'], ['High Hopes', 'Happy'], ['Timber', 'Happy'], ['Take Me To Church', 'Mood'], ['Hotling Bling', 'Mood'], ['Heathens', 'Angry'], [\"Emperor's New Clothes\", 'Angry'], ['This Is America', 'Angry'], ['Solo', 'Angry'], ['Break Your Heart', 'Happy'], ['In My Feelings', 'Happy'], ['Wrecking Ball', 'Mood'], ['Ho Hey', 'Sad']]\n"
     ]
    }
   ],
   "source": [
    "dfvalues = df.values.tolist()\n",
    "\n",
    "\n",
    "for song in dfvalues:\n",
    "    song.pop(1)\n",
    "    song.pop(2)\n",
    "    song.pop(2)\n",
    "\n",
    "print(dfvalues)"
   ]
  },
  {
   "cell_type": "code",
   "execution_count": 9,
   "metadata": {},
   "outputs": [
    {
     "name": "stdout",
     "output_type": "stream",
     "text": [
      "{'Uptown Funk': 'Happy', 'Party Rock Anthem': 'Happy', 'Shape of You': 'Happy', 'Closer': 'Love', 'Girl Like You': 'Mood', 'We Found Love': 'Mood', 'Old Town Road': 'Happy', 'Somebody That I Used To Know': 'Sad', 'Despacito': 'Happy', 'Rolling In The Deep': 'Sad', 'Sunflower': 'Mood', 'Never Gonna Give You Up': 'Happy', 'Call Me Maybe': 'Happy', 'Blurred Lines': 'Happy', 'Perfect': 'Love', 'Sicko Mode': 'Angry', 'All About That Bass': 'Happy', 'Royals': 'Mood', \"God's Plan\": 'Mood', 'Move Like Jagger': 'Happy', 'Happy': 'Happy', 'Just The Way You Are': 'Love', '7star': 'Mood', 'Tik Tok': 'Happy', 'See You Again': 'Sad', 'Dark Horse': 'Mood', 'Thrift Shop': 'Happy', 'One More Night': 'Angry', 'We Are Young': 'Sad', \"That's What I Like\": 'Happy', 'OMFG Hello': 'Happy', 'All Of Me': 'Love', 'Happier': 'Sad', 'Shake It Off': 'Happy', 'One Dance': 'Mood', 'Radioactive': 'Angry', 'Sexy And I Know It': 'Happy', 'Someone Like You': 'Sad', 'Counting Stars': 'Happy', 'Bailando': 'Happy', 'My Heart Will Go On': 'Sad', 'Love Yourself': 'Mood', 'Firework': 'Happy', 'Give Me Everything': 'Happy', 'Locked Out Of Heaven': 'Happy', 'Love The Way You Lie': 'Angry', 'Thinking Out Loud': 'Love', 'Sorry': 'Happy', 'California Gurls': 'Happy', 'Dynamite': 'Happy', 'Lucid Dreams': 'Sad', 'Hello': 'Sad', 'Work From Home': 'Happy', 'Grenade': 'Sad', 'Hey, Soul Sister': 'Happy', 'Let Her Go': 'Sad', 'Wake Me Up!': 'Mood', \"Don't Let Me Down\": 'Happy', 'Havana': 'Mood', 'Someone You Loved': 'Sad', 'Bad Guy': 'Mood', 'Fancy': 'Happy', 'Show Me The Meaning Of Being Lonely': 'Sad', 'Story Of My Life': 'Sad', 'Blank Space': 'Happy', 'Cheap Thrills': 'Happy', 'Diamond Heart': 'Sad', 'Shallow': 'Sad', '7 Rings': 'Mood', 'Stay With Me': 'Sad', \"Can't Hold Us\": 'Happy', 'Paradise': 'Sad', 'Roar': 'Happy', 'Rude': 'Happy', 'Thank U, Next': 'Mood', 'Sugar': 'Happy', 'Payphone': 'Sad', 'LaLaLa': 'Sad', 'Sweet But Psycho': 'Mood', 'So What': 'Angry', 'Demons': 'Sad', \"Can't Stop The Feeling\": 'Happy', 'Cheerleader': 'Happy', 'Bad Romance': 'Mood', 'Sins Not Tragedies': 'Angry', 'What Do You Mean': 'Mood', 'This is Gospel': 'Sad', 'Sucker': 'Happy', 'High Hopes': 'Happy', 'Timber': 'Happy', 'Take Me To Church': 'Mood', 'Hotling Bling': 'Mood', 'Heathens': 'Angry', \"Emperor's New Clothes\": 'Angry', 'This Is America': 'Angry', 'Solo': 'Angry', 'Break Your Heart': 'Happy', 'In My Feelings': 'Happy', 'Wrecking Ball': 'Mood', 'Ho Hey': 'Sad'}\n"
     ]
    }
   ],
   "source": [
    "newdict = {}\n",
    "for song in dfvalues:\n",
    "    newdict[song[0]] = song[1]\n",
    "\n",
    "print(newdict)"
   ]
  },
  {
   "cell_type": "code",
   "execution_count": null,
   "metadata": {},
   "outputs": [],
   "source": []
  }
 ],
 "metadata": {
  "interpreter": {
   "hash": "6f1ba3bd4009959daa3aee675a0d2081b4526d7159c07c600bca8dd4fe2b6796"
  },
  "kernelspec": {
   "display_name": "Python 3.10.2 ('env': venv)",
   "language": "python",
   "name": "python3"
  },
  "language_info": {
   "codemirror_mode": {
    "name": "ipython",
    "version": 3
   },
   "file_extension": ".py",
   "mimetype": "text/x-python",
   "name": "python",
   "nbconvert_exporter": "python",
   "pygments_lexer": "ipython3",
   "version": "3.10.2"
  },
  "orig_nbformat": 4
 },
 "nbformat": 4,
 "nbformat_minor": 2
}
